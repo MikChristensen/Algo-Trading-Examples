{
 "cells": [
  {
   "cell_type": "code",
   "execution_count": 1,
   "metadata": {},
   "outputs": [
    {
     "ename": "SyntaxError",
     "evalue": "invalid syntax (__init__.py, line 239)",
     "output_type": "error",
     "traceback": [
      "Traceback \u001b[1;36m(most recent call last)\u001b[0m:\n",
      "  File \u001b[0;32mc:\\Users\\mikch\\anaconda3\\envs\\ml_trading\\lib\\site-packages\\IPython\\core\\interactiveshell.py:3397\u001b[0m in \u001b[0;35mrun_code\u001b[0m\n    exec(code_obj, self.user_global_ns, self.user_ns)\n",
      "  Input \u001b[0;32mIn [1]\u001b[0m in \u001b[0;35m<cell line: 1>\u001b[0m\n    import backtrader as bt\n",
      "  File \u001b[0;32mc:\\Users\\mikch\\anaconda3\\envs\\ml_trading\\lib\\site-packages\\backtrader\\__init__.py:62\u001b[0m in \u001b[0;35m<module>\u001b[0m\n    from .cerebro import *\n",
      "  File \u001b[0;32mc:\\Users\\mikch\\anaconda3\\envs\\ml_trading\\lib\\site-packages\\backtrader\\cerebro.py:35\u001b[0m in \u001b[0;35m<module>\u001b[0m\n    from .brokers import BackBroker\n",
      "  File \u001b[0;32mc:\\Users\\mikch\\anaconda3\\envs\\ml_trading\\lib\\site-packages\\backtrader\\brokers\\__init__.py:30\u001b[0m in \u001b[0;35m<module>\u001b[0m\n    from .ibbroker import IBBroker\n",
      "  File \u001b[0;32mc:\\Users\\mikch\\anaconda3\\envs\\ml_trading\\lib\\site-packages\\backtrader\\brokers\\ibbroker.py:30\u001b[0m in \u001b[0;35m<module>\u001b[0m\n    import ib.ext.Order\n",
      "\u001b[1;36m  File \u001b[1;32mc:\\Users\\mikch\\anaconda3\\envs\\ml_trading\\lib\\site-packages\\ib\\ext\\Order.py:9\u001b[1;36m in \u001b[1;35m<module>\u001b[1;36m\u001b[0m\n\u001b[1;33m    from ib.lib import Double, Integer\u001b[0m\n",
      "\u001b[1;36m  File \u001b[1;32mc:\\Users\\mikch\\anaconda3\\envs\\ml_trading\\lib\\site-packages\\ib\\lib\\__init__.py:239\u001b[1;36m\u001b[0m\n\u001b[1;33m    except (socket.error, ), ex:\u001b[0m\n\u001b[1;37m                           ^\u001b[0m\n\u001b[1;31mSyntaxError\u001b[0m\u001b[1;31m:\u001b[0m invalid syntax\n"
     ]
    }
   ],
   "source": [
    "import backtrader as bt\n",
    "import backtrader.analyzers as btanalyzers\n",
    "from GetData import getData\n",
    "import numpy as np\n",
    "import matplotlib as plt\n",
    "import math"
   ]
  },
  {
   "cell_type": "code",
   "execution_count": null,
   "metadata": {},
   "outputs": [],
   "source": [
    "%matplotlib inline"
   ]
  },
  {
   "cell_type": "code",
   "execution_count": null,
   "metadata": {},
   "outputs": [],
   "source": [
    "#date = '2022-05-16'\n",
    "symbol = 'NG=F'\n",
    "interval = '1d'\n",
    "period = '1y'"
   ]
  },
  {
   "cell_type": "code",
   "execution_count": null,
   "metadata": {},
   "outputs": [],
   "source": [
    "#date = '2022-05-16'\n",
    "symbol = 'NG=F'\n",
    "interval = '1m'\n",
    "period = '1wk'"
   ]
  },
  {
   "cell_type": "code",
   "execution_count": null,
   "metadata": {},
   "outputs": [
    {
     "name": "stdout",
     "output_type": "stream",
     "text": [
      "[*********************100%***********************]  1 of 1 completed\n"
     ]
    }
   ],
   "source": [
    "getdata = getData()\n",
    "rawData = getdata.getHistoryYfinance(symbol=symbol, interval=interval, period=period)"
   ]
  },
  {
   "cell_type": "code",
   "execution_count": null,
   "metadata": {},
   "outputs": [
    {
     "data": {
      "text/plain": [
       "Open         3643\n",
       "High         3643\n",
       "Low          3643\n",
       "Close        3643\n",
       "Adj Close    3643\n",
       "Volume       3643\n",
       "dtype: int64"
      ]
     },
     "execution_count": 12,
     "metadata": {},
     "output_type": "execute_result"
    }
   ],
   "source": [
    "rawData.count()"
   ]
  },
  {
   "cell_type": "code",
   "execution_count": null,
   "metadata": {},
   "outputs": [],
   "source": [
    "class GoldenCross(bt.Strategy):\n",
    "    \n",
    "    # list of parameters which are configurable for the strategy\n",
    "    params = dict(\n",
    "        pfast=8,  \n",
    "        pslow=70,\n",
    "        pOrder_percentage=0.95,\n",
    "        pTicker='SPY'  \n",
    "    )\n",
    "\n",
    "    def __init__(self):\n",
    "        self.fast_moving_average = bt.ind.SMA(self.data.close, period=self.p.pfast, plotname= str(self.p.pfast) + ' Moving average')  # fast moving average\n",
    "        self.slow_moving_average = bt.ind.SMA(self.data.close, period=self.p.pslow, plotname= str(self.p.pslow) + ' Moving average')  # slow moving average\n",
    "        self.crossOver = bt.ind.CrossOver(self.fast_moving_average, self.slow_moving_average)  # crossover signal\n",
    "                    \n",
    "    def next(self):\n",
    "        if self.position.size == 0:\n",
    "            if self.crossOver > 0:  # GoldenCross\n",
    "                amount_to_invest = (self.p.pOrder_percentage * self.broker.cash)\n",
    "                self.size = math.floor(amount_to_invest / self.data.close[0])\n",
    "\n",
    "                print(\"Buy {} shares of {} at {}\".format(self.size, self.p.pTicker, self.data.close[0]))\n",
    "                self.buy(size=self.size)\n",
    "\n",
    "        if self.position.size > 0:\n",
    "            if self.crossOver < 0:  # \n",
    "                print(\"Sell {} shares of {} at {}\".format(self.size, self.p.pTicker, self.data.close[0]))\n",
    "                self.close()"
   ]
  },
  {
   "cell_type": "code",
   "execution_count": null,
   "metadata": {},
   "outputs": [
    {
     "name": "stdout",
     "output_type": "stream",
     "text": [
      "Buy 117 shares of SPY at 8.07800006866455\n",
      "Sell 117 shares of SPY at 8.08899974822998\n",
      "Buy 117 shares of SPY at 8.102999687194824\n",
      "Sell 117 shares of SPY at 8.088000297546387\n",
      "Buy 116 shares of SPY at 8.131999969482422\n",
      "Sell 116 shares of SPY at 8.128999710083008\n",
      "Buy 116 shares of SPY at 8.135000228881836\n",
      "Sell 116 shares of SPY at 8.111000061035156\n",
      "Buy 116 shares of SPY at 8.13599967956543\n",
      "Sell 116 shares of SPY at 8.119999885559082\n",
      "Buy 118 shares of SPY at 7.9770002365112305\n",
      "Sell 118 shares of SPY at 7.939000129699707\n",
      "Buy 118 shares of SPY at 7.949999809265137\n",
      "Sell 118 shares of SPY at 7.923999786376953\n",
      "Buy 117 shares of SPY at 7.995999813079834\n",
      "Sell 117 shares of SPY at 8.531999588012695\n",
      "Buy 115 shares of SPY at 8.588000297546387\n",
      "Sell 115 shares of SPY at 8.748000144958496\n",
      "Buy 115 shares of SPY at 8.782999992370605\n",
      "Sell 115 shares of SPY at 8.781999588012695\n",
      "Buy 115 shares of SPY at 8.767000198364258\n",
      "Sell 115 shares of SPY at 8.769000053405762\n",
      "Buy 115 shares of SPY at 8.744999885559082\n",
      "Sell 115 shares of SPY at 8.736000061035156\n",
      "Buy 115 shares of SPY at 8.75\n",
      "Sell 115 shares of SPY at 8.74899959564209\n",
      "Buy 115 shares of SPY at 8.77299976348877\n",
      "Sell 115 shares of SPY at 8.75\n",
      "Buy 115 shares of SPY at 8.76099967956543\n",
      "Sell 115 shares of SPY at 8.739999771118164\n",
      "Buy 114 shares of SPY at 8.755000114440918\n",
      "Sell 114 shares of SPY at 8.748000144958496\n",
      "Buy 114 shares of SPY at 8.751999855041504\n",
      "Sell 114 shares of SPY at 8.746999740600586\n",
      "Buy 114 shares of SPY at 8.756999969482422\n",
      "Sell 114 shares of SPY at 8.734000205993652\n",
      "Buy 114 shares of SPY at 8.74899959564209\n",
      "Sell 114 shares of SPY at 8.736000061035156\n",
      "Buy 114 shares of SPY at 8.756999969482422\n",
      "Sell 114 shares of SPY at 8.723999977111816\n",
      "Buy 113 shares of SPY at 8.79699993133545\n",
      "Sell 113 shares of SPY at 8.741999626159668\n",
      "Buy 113 shares of SPY at 8.774999618530273\n",
      "Sell 113 shares of SPY at 8.788000106811523\n",
      "Buy 113 shares of SPY at 8.845999717712402\n",
      "Sell 113 shares of SPY at 8.744999885559082\n",
      "Buy 113 shares of SPY at 8.736000061035156\n",
      "Sell 113 shares of SPY at 8.673999786376953\n",
      "Buy 112 shares of SPY at 8.776000022888184\n",
      "Sell 112 shares of SPY at 8.72599983215332\n",
      "Buy 112 shares of SPY at 8.737000465393066\n",
      "Sell 112 shares of SPY at 8.72700023651123\n",
      "Buy 112 shares of SPY at 8.729000091552734\n",
      "Sell 112 shares of SPY at 8.687999725341797\n",
      "Buy 111 shares of SPY at 8.704999923706055\n",
      "Sell 111 shares of SPY at 8.800000190734863\n",
      "Buy 112 shares of SPY at 8.776000022888184\n",
      "Sell 112 shares of SPY at 8.75100040435791\n",
      "Buy 111 shares of SPY at 8.78499984741211\n",
      "Sell 111 shares of SPY at 8.788000106811523\n",
      "Buy 111 shares of SPY at 8.793000221252441\n",
      "Sell 111 shares of SPY at 8.878000259399414\n",
      "Buy 111 shares of SPY at 8.888999938964844\n",
      "Sell 111 shares of SPY at 8.883999824523926\n",
      "Buy 112 shares of SPY at 8.833999633789062\n",
      "Sell 112 shares of SPY at 8.803999900817871\n",
      "Buy 112 shares of SPY at 8.817000389099121\n",
      "Sell 112 shares of SPY at 8.786999702453613\n",
      "Buy 111 shares of SPY at 8.86299991607666\n",
      "Sell 111 shares of SPY at 9.220000267028809\n",
      "Buy 111 shares of SPY at 9.199000358581543\n",
      "Sell 111 shares of SPY at 9.14900016784668\n",
      "Buy 113 shares of SPY at 8.961000442504883\n",
      "Sell 113 shares of SPY at 8.977999687194824\n",
      "Buy 112 shares of SPY at 9.029999732971191\n",
      "Sell 112 shares of SPY at 9.012999534606934\n",
      "Buy 110 shares of SPY at 9.145999908447266\n",
      "Sell 110 shares of SPY at 8.958999633789062\n",
      "Buy 115 shares of SPY at 8.449000358581543\n",
      "Sell 115 shares of SPY at 8.687000274658203\n",
      "Buy 115 shares of SPY at 8.675999641418457\n",
      "Sell 115 shares of SPY at 8.708999633789062\n",
      "Buy 115 shares of SPY at 8.748000144958496\n",
      "Sell 115 shares of SPY at 8.722000122070312\n",
      "Buy 114 shares of SPY at 8.732000350952148\n",
      "Sell 114 shares of SPY at 8.718000411987305\n",
      "Buy 115 shares of SPY at 8.732000350952148\n",
      "Sell 115 shares of SPY at 8.727999687194824\n"
     ]
    }
   ],
   "source": [
    "cerebro = bt.Cerebro()  # create a \"Cerebro\" engine instance\n",
    "\n",
    "# Create a data feed\n",
    "data = bt.feeds.PandasData(dataname=rawData)\n",
    "\n",
    "cerebro.adddata(data)  # Add the data feed\n",
    "cerebro.broker.set_cash(1000)\n",
    "cerebro.addstrategy(GoldenCross)  # Add the trading strategy\n",
    "cerebro.addanalyzer(btanalyzers.SharpeRatio, _name='mysharpe')\n",
    "cerebro.addanalyzer(bt.analyzers.PyFolio, _name='pyfolio')\n",
    "thestrats = cerebro.run()\n",
    "thestrat = thestrats[0]"
   ]
  },
  {
   "cell_type": "code",
   "execution_count": null,
   "metadata": {},
   "outputs": [
    {
     "name": "stdout",
     "output_type": "stream",
     "text": [
      "Final value 1054.405288696289\n",
      "Sharpe Ratio: OrderedDict([('sharperatio', None)])\n"
     ]
    }
   ],
   "source": [
    "print('Final value', cerebro.broker.getvalue())\n",
    "print('Sharpe Ratio:', thestrat.analyzers.mysharpe.get_analysis())"
   ]
  },
  {
   "cell_type": "code",
   "execution_count": null,
   "metadata": {},
   "outputs": [
    {
     "data": {
      "text/plain": [
       "[[<Figure size 3600x3200 with 5 Axes>]]"
      ]
     },
     "execution_count": 15,
     "metadata": {},
     "output_type": "execute_result"
    },
    {
     "ename": "",
     "evalue": "",
     "output_type": "error",
     "traceback": [
      "\u001b[1;31mThe Kernel crashed while executing code in the the current cell or a previous cell. Please review the code in the cell(s) to identify a possible cause of the failure. Click <a href='https://aka.ms/vscodeJupyterKernelCrash'>here</a> for more info. View Jupyter <a href='command:jupyter.viewOutput'>log</a> for further details."
     ]
    }
   ],
   "source": [
    "plt.rcParams['font.sans-serif']=['SimHei']\n",
    "plt.rcParams['axes.unicode_minus']=False\n",
    "plt.rcParams['figure.figsize']=[18, 16]\n",
    "plt.rcParams['figure.dpi']=200\n",
    "plt.rcParams['figure.facecolor']='w'\n",
    "plt.rcParams['figure.edgecolor']='k'\n",
    "cerebro.plot(height= 30, iplot= False)\n",
    "#cerebro.plot()"
   ]
  }
 ],
 "metadata": {
  "interpreter": {
   "hash": "21672cb51f0f261611be7d67cd0781b50650cc5f87b56af0cd9d677415e1d15e"
  },
  "kernelspec": {
   "display_name": "Python 3.8.13",
   "language": "python",
   "name": "python3"
  },
  "language_info": {
   "codemirror_mode": {
    "name": "ipython",
    "version": 3
   },
   "file_extension": ".py",
   "mimetype": "text/x-python",
   "name": "python",
   "nbconvert_exporter": "python",
   "pygments_lexer": "ipython3",
   "version": "3.8.13"
  }
 },
 "nbformat": 4,
 "nbformat_minor": 4
}
