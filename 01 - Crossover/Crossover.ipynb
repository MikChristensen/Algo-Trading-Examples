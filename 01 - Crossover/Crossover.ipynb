{
 "cells": [
  {
   "cell_type": "code",
   "execution_count": 1,
   "metadata": {},
   "outputs": [],
   "source": [
    "from datetime import datetime\n",
    "import backtrader as bt\n",
    "from backtrader.indicators import SMA\n",
    "from GetData import getData\n",
    "import numpy as np\n",
    "import matplotlib as plt"
   ]
  },
  {
   "cell_type": "code",
   "execution_count": 2,
   "metadata": {},
   "outputs": [],
   "source": [
    "%matplotlib inline"
   ]
  },
  {
   "cell_type": "code",
   "execution_count": 3,
   "metadata": {},
   "outputs": [],
   "source": [
    "#date = '2022-05-16'\n",
    "symbol = 'googl'\n",
    "interval = '1d'\n",
    "period = '10y'"
   ]
  },
  {
   "cell_type": "code",
   "execution_count": 4,
   "metadata": {},
   "outputs": [
    {
     "name": "stdout",
     "output_type": "stream",
     "text": [
      "[*********************100%***********************]  1 of 1 completed\n"
     ]
    }
   ],
   "source": [
    "getdata = getData()\n",
    "rawData = getdata.getHistoryYfinance(symbol=symbol, interval=interval, period=period)"
   ]
  },
  {
   "cell_type": "code",
   "execution_count": 5,
   "metadata": {},
   "outputs": [
    {
     "data": {
      "text/plain": [
       "Open         2518\n",
       "High         2518\n",
       "Low          2518\n",
       "Close        2518\n",
       "Adj Close    2518\n",
       "Volume       2518\n",
       "dtype: int64"
      ]
     },
     "execution_count": 5,
     "metadata": {},
     "output_type": "execute_result"
    }
   ],
   "source": [
    "rawData.count()"
   ]
  },
  {
   "cell_type": "code",
   "execution_count": 6,
   "metadata": {},
   "outputs": [],
   "source": [
    "class SmaCross(bt.Strategy):\n",
    "    # list of parameters which are configurable for the strategy\n",
    "    params = dict(\n",
    "        pfast=10,  # period for the fast moving average\n",
    "        pslow=30   # period for the slow moving average\n",
    "    )\n",
    "\n",
    "    def __init__(self):\n",
    "        sma1 = bt.ind.SMA(period=self.p.pfast)  # fast moving average\n",
    "        sma2 = bt.ind.SMA(period=self.p.pslow)  # slow moving average\n",
    "        self.crossover = bt.ind.CrossOver(sma1, sma2)  # crossover signal\n",
    "\n",
    "    def next(self):\n",
    "        if not self.position:  # not in the market\n",
    "            if self.crossover > 0:  # if fast crosses slow to the upside\n",
    "                self.buy()  # enter long\n",
    "\n",
    "        elif self.crossover < 0:  # in the market & cross to the downside\n",
    "            self.close()  # close long position\n"
   ]
  },
  {
   "cell_type": "code",
   "execution_count": 7,
   "metadata": {},
   "outputs": [
    {
     "data": {
      "text/plain": [
       "[<__main__.SmaCross at 0x21ae6a01130>]"
      ]
     },
     "execution_count": 7,
     "metadata": {},
     "output_type": "execute_result"
    }
   ],
   "source": [
    "cerebro = bt.Cerebro()  # create a \"Cerebro\" engine instance\n",
    "\n",
    "# Create a data feed\n",
    "data = bt.feeds.PandasData(dataname=rawData)\n",
    "\n",
    "cerebro.adddata(data)  # Add the data feed\n",
    "\n",
    "cerebro.addstrategy(SmaCross)  # Add the trading strategy\n",
    "cerebro.run()  # run it all\n",
    "  # and plot it with a single command"
   ]
  },
  {
   "cell_type": "code",
   "execution_count": 8,
   "metadata": {},
   "outputs": [],
   "source": [
    "\n",
    "plt.rcParams['font.sans-serif']=['SimHei']\n",
    "plt.rcParams['axes.unicode_minus']=False\n",
    "plt.rcParams['figure.figsize']=[18, 16]\n",
    "plt.rcParams['figure.dpi']=200\n",
    "plt.rcParams['figure.facecolor']='w'\n",
    "plt.rcParams['figure.edgecolor']='k'\n",
    "#cerebro.plot(height= 30, iplot= False)"
   ]
  },
  {
   "cell_type": "code",
   "execution_count": 9,
   "metadata": {},
   "outputs": [
    {
     "data": {
      "text/plain": [
       "10937.109741210938"
      ]
     },
     "execution_count": 9,
     "metadata": {},
     "output_type": "execute_result"
    }
   ],
   "source": [
    "cerebro.broker.getvalue()"
   ]
  },
  {
   "cell_type": "code",
   "execution_count": null,
   "metadata": {},
   "outputs": [],
   "source": []
  },
  {
   "cell_type": "code",
   "execution_count": 10,
   "metadata": {},
   "outputs": [],
   "source": [
    "class SmaCross_A(bt.Strategy):\n",
    "    \n",
    "    # list of parameters which are configurable for the strategy\n",
    "    params = dict(\n",
    "        pfast=70,  # period for the fast moving average - Default 10\n",
    "        pslow=200   # period for the slow moving average - Default 30\n",
    "    )\n",
    "\n",
    "    def __init__(self):\n",
    "        sma1 = bt.ind.SMA(period=self.p.pfast)  # fast moving average\n",
    "        self.sma2 = bt.ind.SMA(period=self.p.pslow)  # slow moving average\n",
    "        self.sma = 0 \n",
    "        \n",
    "        #self.TA_fastSMA = bt.SMA(self.data.Close,3)  # slow moving average\n",
    "        self.crossover = bt.ind.CrossOver(sma1, self.sma2)  # crossover signal            \n",
    "\n",
    "    def next(self):\n",
    "        if self.crossover > 0.0 and (self.sma * 1.0001) < self.sma2[0]:  # cross upwards\n",
    "            if self.position:\n",
    "                print('CLOSE SHORT , %.2f' % self.data.close[0])\n",
    "                self.close()\n",
    "\n",
    "            print('BUY CREATE , %.2f' % self.data.close[0])\n",
    "            self.buy()\n",
    "\n",
    "        elif self.crossover < 0.0 and (self.sma) > self.sma2[0]:\n",
    "            if self.position:\n",
    "                print('CLOSE LONG , %.2f' % self.data.close[0])\n",
    "                self.close()\n",
    "\n",
    "#            if not self.p.onlylong:\n",
    "            print('SELL CREATE , %.2f' % self.data.close[0])\n",
    "            self.sell()\n",
    "\n",
    "        self.sma = self.sma2[0] \n",
    "\n"
   ]
  },
  {
   "cell_type": "code",
   "execution_count": 11,
   "metadata": {},
   "outputs": [
    {
     "name": "stdout",
     "output_type": "stream",
     "text": [
      "SELL CREATE , 543.76\n",
      "CLOSE SHORT , 796.59\n",
      "BUY CREATE , 796.59\n",
      "CLOSE LONG , 1078.08\n",
      "SELL CREATE , 1078.08\n",
      "CLOSE SHORT , 1226.53\n",
      "BUY CREATE , 1226.53\n",
      "CLOSE SHORT , 1418.05\n",
      "BUY CREATE , 1418.05\n"
     ]
    },
    {
     "data": {
      "text/plain": [
       "[<__main__.SmaCross_A at 0x21ae69da670>]"
      ]
     },
     "execution_count": 11,
     "metadata": {},
     "output_type": "execute_result"
    }
   ],
   "source": [
    "cerebro = bt.Cerebro()  # create a \"Cerebro\" engine instance\n",
    "\n",
    "# Create a data feed\n",
    "data = bt.feeds.PandasData(dataname=rawData)\n",
    "\n",
    "cerebro.adddata(data)  # Add the data feed\n",
    "\n",
    "cerebro.addstrategy(SmaCross_A)  # Add the trading strategy\n",
    "cerebro.run()  # run it all\n",
    "  # and plot it with a single command"
   ]
  },
  {
   "cell_type": "code",
   "execution_count": 12,
   "metadata": {},
   "outputs": [
    {
     "data": {
      "text/plain": [
       "10819.939880371094"
      ]
     },
     "execution_count": 12,
     "metadata": {},
     "output_type": "execute_result"
    }
   ],
   "source": [
    "cerebro.broker.getvalue()"
   ]
  },
  {
   "cell_type": "code",
   "execution_count": 13,
   "metadata": {},
   "outputs": [
    {
     "data": {
      "text/plain": [
       "[[<Figure size 3600x3200 with 5 Axes>]]"
      ]
     },
     "execution_count": 13,
     "metadata": {},
     "output_type": "execute_result"
    }
   ],
   "source": [
    "plt.rcParams['font.sans-serif']=['SimHei']\n",
    "plt.rcParams['axes.unicode_minus']=False\n",
    "plt.rcParams['figure.figsize']=[18, 16]\n",
    "plt.rcParams['figure.dpi']=200\n",
    "plt.rcParams['figure.facecolor']='w'\n",
    "plt.rcParams['figure.edgecolor']='k'\n",
    "#cerebro.plot(height= 30, iplot= False)\n",
    "cerebro.plot(iplot= False)"
   ]
  }
 ],
 "metadata": {
  "interpreter": {
   "hash": "21672cb51f0f261611be7d67cd0781b50650cc5f87b56af0cd9d677415e1d15e"
  },
  "kernelspec": {
   "display_name": "Python 3.8.13",
   "language": "python",
   "name": "python3"
  },
  "language_info": {
   "codemirror_mode": {
    "name": "ipython",
    "version": 3
   },
   "file_extension": ".py",
   "mimetype": "text/x-python",
   "name": "python",
   "nbconvert_exporter": "python",
   "pygments_lexer": "ipython3",
   "version": "3.8.13"
  }
 },
 "nbformat": 4,
 "nbformat_minor": 4
}
